{
 "cells": [
  {
   "cell_type": "code",
   "execution_count": 56,
   "metadata": {},
   "outputs": [],
   "source": [
    "import spotipy\n",
    "import spotipy.util as util\n",
    "from spotipy.oauth2 import SpotifyClientCredentials\n",
    "import json"
   ]
  },
  {
   "cell_type": "code",
   "execution_count": 57,
   "metadata": {},
   "outputs": [],
   "source": [
    "client_id=''\n",
    "client_secret=''\n",
    "redirect_uri='http://google.com/'\n"
   ]
  },
  {
   "cell_type": "code",
   "execution_count": 58,
   "metadata": {},
   "outputs": [],
   "source": [
    "username='n.acar'\n",
    "client_credentials_manager = SpotifyClientCredentials(client_id=client_id, client_secret=client_secret) \n",
    "scope = 'user-library-read playlist-read-private'\n",
    "try:\n",
    "    token = util.prompt_for_user_token(username, scope,client_id=client_id, client_secret=client_secret, redirect_uri=redirect_uri)  \n",
    "    sp=spotipy.Spotify(auth= token)\n",
    "except:\n",
    "    print('Token is not accesible for ' + username)\n",
    "\n"
   ]
  },
  {
   "cell_type": "code",
   "execution_count": 59,
   "metadata": {},
   "outputs": [
    {
     "name": "stdout",
     "output_type": "stream",
     "text": [
      "3axhnTsNa4YefoyLGxjdWz\n",
      "0MMNWxGJ4SkZVmajWv6MxX\n",
      "5nNmj1cLH3r4aA4XDJ2bgY\n",
      "2KA6dhXmz72kvaEK0liYZL\n",
      "6A6qBFJHid4WutQu6HHEZt\n",
      "6n2Hr4ieid3D9ajnGX3pdp\n",
      "1DoS5ql0TW3ejjJGHbsAmz\n",
      "3UVj0QFwXzsvVnZFh8ABNJ\n",
      "64BbRFQBFPpSKhmCZ5w7K1\n",
      "4DcJxTf3hXEaJIN06xKFb8\n",
      "0mDDfA4yNuyw32ETB38jBj\n",
      "7nnW9qKcLQi98ghW42lsAX\n",
      "5gGvmMgnq66xLSEoDx9iJQ\n",
      "2pD1BR7vPz8GiygzRKmg5n\n",
      "72b3Ws3byP6yidFilsOoyz\n",
      "72UMOAfc73lO9ci7Fzl66X\n",
      "5i9YJPhJo1RrWHKjkbkgmk\n",
      "1XhFmIIYWjHuovs2F4IpWj\n",
      "3eZGNBvKkExXp8q5FAyM8y\n",
      "2EbQzx4SPYv6Aup9mhP9U0\n"
     ]
    }
   ],
   "source": [
    "#taking the songs library\n",
    "results = sp.current_user_saved_tracks()\n",
    "for item in results['items']:\n",
    "    track = item['track']\n",
    "    print(track['id'])\n",
    "    "
   ]
  },
  {
   "cell_type": "code",
   "execution_count": 62,
   "metadata": {},
   "outputs": [
    {
     "name": "stdout",
     "output_type": "stream",
     "text": [
      "[{'danceability': 0.8, 'energy': 0.491, 'key': 10, 'loudness': -8.293, 'mode': 0, 'speechiness': 0.0468, 'acousticness': 0.309, 'instrumentalness': 0, 'liveness': 0.332, 'valence': 0.425, 'tempo': 135.008, 'type': 'audio_features', 'id': '3axhnTsNa4YefoyLGxjdWz', 'uri': 'spotify:track:3axhnTsNa4YefoyLGxjdWz', 'track_href': 'https://api.spotify.com/v1/tracks/3axhnTsNa4YefoyLGxjdWz', 'analysis_url': 'https://api.spotify.com/v1/audio-analysis/3axhnTsNa4YefoyLGxjdWz', 'duration_ms': 187654, 'time_signature': 4}]\n"
     ]
    }
   ],
   "source": [
    "#getting the audio features of a song\n",
    "results2 = sp.audio_features(tracks=['3axhnTsNa4YefoyLGxjdWz'])\n",
    "print(results2)"
   ]
  },
  {
   "cell_type": "code",
   "execution_count": null,
   "metadata": {},
   "outputs": [],
   "source": []
  }
 ],
 "metadata": {
  "kernelspec": {
   "display_name": "Python 3",
   "language": "python",
   "name": "python3"
  },
  "language_info": {
   "codemirror_mode": {
    "name": "ipython",
    "version": 3
   },
   "file_extension": ".py",
   "mimetype": "text/x-python",
   "name": "python",
   "nbconvert_exporter": "python",
   "pygments_lexer": "ipython3",
   "version": "3.6.5"
  }
 },
 "nbformat": 4,
 "nbformat_minor": 2
}
